{
 "cells": [
  {
   "cell_type": "code",
   "execution_count": 2,
   "id": "ceb44c1a",
   "metadata": {},
   "outputs": [
    {
     "name": "stdout",
     "output_type": "stream",
     "text": [
      "<class 'str'>\n"
     ]
    }
   ],
   "source": [
    "# ans1 i)\n",
    "a = \"apple\"\n",
    "print(type(a))"
   ]
  },
  {
   "cell_type": "code",
   "execution_count": 3,
   "id": "a1011694",
   "metadata": {},
   "outputs": [
    {
     "name": "stdout",
     "output_type": "stream",
     "text": [
      "<class 'list'>\n"
     ]
    }
   ],
   "source": [
    "# ii)\n",
    "L = [23,23.5,True,\"Ball\"]\n",
    "print(type(L))"
   ]
  },
  {
   "cell_type": "code",
   "execution_count": 4,
   "id": "ef235a21",
   "metadata": {},
   "outputs": [
    {
     "name": "stdout",
     "output_type": "stream",
     "text": [
      "<class 'float'>\n"
     ]
    }
   ],
   "source": [
    "# iii)\n",
    "b = 23.5\n",
    "print(type(b))"
   ]
  },
  {
   "cell_type": "code",
   "execution_count": null,
   "id": "de160c05",
   "metadata": {
    "scrolled": true
   },
   "outputs": [],
   "source": []
  },
  {
   "cell_type": "code",
   "execution_count": 8,
   "id": "50bc0adc",
   "metadata": {
    "scrolled": true
   },
   "outputs": [],
   "source": [
    "# ans2\n",
    "#i) String\n",
    "#ii) String\n",
    "#iii) List\n",
    "#iv) integer"
   ]
  },
  {
   "cell_type": "code",
   "execution_count": 9,
   "id": "f3d14889",
   "metadata": {},
   "outputs": [
    {
     "name": "stdout",
     "output_type": "stream",
     "text": [
      "50.0\n"
     ]
    }
   ],
   "source": [
    "# ans 3 \n",
    "# i) / = This is a division oppertor used for doing division\n",
    "# For example\n",
    "print(100/2)"
   ]
  },
  {
   "cell_type": "code",
   "execution_count": 10,
   "id": "3e95f8ce",
   "metadata": {},
   "outputs": [
    {
     "name": "stdout",
     "output_type": "stream",
     "text": [
      "1\n"
     ]
    }
   ],
   "source": [
    "#ii) % = This is an Modulus opperator it is used to know remainder\n",
    "# for example\n",
    "print(5%4)"
   ]
  },
  {
   "cell_type": "code",
   "execution_count": 12,
   "id": "f6cf5f64",
   "metadata": {},
   "outputs": [
    {
     "name": "stdout",
     "output_type": "stream",
     "text": [
      "27\n"
     ]
    }
   ],
   "source": [
    "#iii) // = it is the devision floor opperator used for giving outcome in the form of integer\n",
    "#for example\n",
    "print(55//2)\n"
   ]
  },
  {
   "cell_type": "code",
   "execution_count": 13,
   "id": "d0c9bee4",
   "metadata": {},
   "outputs": [
    {
     "name": "stdout",
     "output_type": "stream",
     "text": [
      "15625\n"
     ]
    }
   ],
   "source": [
    "#iv) ** = This is a exponent opperator used to multiply the  number by its power\n",
    "# for example\n",
    "print(5**6)"
   ]
  },
  {
   "cell_type": "code",
   "execution_count": null,
   "id": "a189e09c",
   "metadata": {},
   "outputs": [],
   "source": []
  },
  {
   "cell_type": "code",
   "execution_count": 1,
   "id": "b869c1f1",
   "metadata": {},
   "outputs": [
    {
     "name": "stdout",
     "output_type": "stream",
     "text": [
      "apple\n",
      "<class 'str'>\n",
      "98\n",
      "<class 'int'>\n",
      "78.9\n",
      "<class 'float'>\n",
      "orrange\n",
      "<class 'str'>\n",
      "True\n",
      "<class 'bool'>\n",
      "False\n",
      "<class 'bool'>\n",
      "(2+6j)\n",
      "<class 'complex'>\n",
      "34\n",
      "<class 'int'>\n",
      "2.21\n",
      "<class 'float'>\n",
      "(2+3j)\n",
      "<class 'complex'>\n"
     ]
    }
   ],
   "source": [
    "# ans 4 \n",
    "c = [\"apple\" , 98 ,78.9,\"orrange\",True,False,2+6j,34,2.21,2+3j]\n",
    "for i in c:\n",
    "    print(i)\n",
    "    print(type(i))"
   ]
  },
  {
   "cell_type": "code",
   "execution_count": 25,
   "id": "d42b1606",
   "metadata": {},
   "outputs": [
    {
     "name": "stdout",
     "output_type": "stream",
     "text": [
      "The number is  1  time divisible\n"
     ]
    }
   ],
   "source": [
    "# ans 5\n",
    "a=42\n",
    "b=2\n",
    "c=0\n",
    "str(c)\n",
    "while a%b==0:\n",
    "    a = a/b\n",
    "    c+=1\n",
    "    print(\"The number is \", c ,\" time divisible\")\n",
    "    \n",
    "    \n"
   ]
  },
  {
   "cell_type": "code",
   "execution_count": 16,
   "id": "d5c5f246",
   "metadata": {},
   "outputs": [
    {
     "name": "stdout",
     "output_type": "stream",
     "text": [
      "1  is not devisible by 3\n",
      "2  is not devisible by 3\n",
      "3  is devisible by 3\n",
      "4  is not devisible by 3\n",
      "5  is not devisible by 3\n",
      "6  is devisible by 3\n",
      "7  is not devisible by 3\n",
      "8  is not devisible by 3\n",
      "9  is devisible by 3\n",
      "10  is not devisible by 3\n",
      "11  is not devisible by 3\n",
      "12  is devisible by 3\n",
      "13  is not devisible by 3\n",
      "14  is not devisible by 3\n",
      "15  is devisible by 3\n",
      "16  is not devisible by 3\n",
      "17  is not devisible by 3\n",
      "18  is devisible by 3\n",
      "19  is not devisible by 3\n",
      "20  is not devisible by 3\n",
      "21  is devisible by 3\n",
      "22  is not devisible by 3\n",
      "23  is not devisible by 3\n",
      "24  is devisible by 3\n",
      "25  is not devisible by 3\n"
     ]
    }
   ],
   "source": [
    "# ans 6\n",
    "l = [1,2,3,4,5,6,7,8,9,10,11,12,13,14,15,16,17,18,19,20,21,22,23,24,25]\n",
    "for i in l:\n",
    "    if i%3==0:\n",
    "        print(i ,\" is devisible by 3\")\n",
    "    else:\n",
    "        print(i,\" is not devisible by 3\")"
   ]
  },
  {
   "cell_type": "code",
   "execution_count": 29,
   "id": "74aee4fb",
   "metadata": {},
   "outputs": [
    {
     "name": "stdout",
     "output_type": "stream",
     "text": [
      "3\n"
     ]
    }
   ],
   "source": [
    "# ans 7 \n",
    "# Mutable data type : these are those data type  which allow to replace one thing for another\n",
    "# for example:\n",
    "number=[\"chandan\",34,32.8]\n",
    "l[1]=3\n",
    "print(l[1])"
   ]
  },
  {
   "cell_type": "code",
   "execution_count": 30,
   "id": "fbea2407",
   "metadata": {},
   "outputs": [
    {
     "ename": "TypeError",
     "evalue": "'str' object does not support item assignment",
     "output_type": "error",
     "traceback": [
      "\u001b[1;31m---------------------------------------------------------------------------\u001b[0m",
      "\u001b[1;31mTypeError\u001b[0m                                 Traceback (most recent call last)",
      "Cell \u001b[1;32mIn[30], line 4\u001b[0m\n\u001b[0;32m      1\u001b[0m \u001b[38;5;66;03m# Immutable data type : these are those data type  which doesn't allow to replace one thing for another\u001b[39;00m\n\u001b[0;32m      2\u001b[0m \u001b[38;5;66;03m#for example\u001b[39;00m\n\u001b[0;32m      3\u001b[0m v\u001b[38;5;241m=\u001b[39m\u001b[38;5;124m\"\u001b[39m\u001b[38;5;124mLaptop\u001b[39m\u001b[38;5;124m\"\u001b[39m\n\u001b[1;32m----> 4\u001b[0m v[\u001b[38;5;241m2\u001b[39m]\u001b[38;5;241m=\u001b[39mc\n\u001b[0;32m      5\u001b[0m \u001b[38;5;28mprint\u001b[39m(v[\u001b[38;5;241m2\u001b[39m])\n",
      "\u001b[1;31mTypeError\u001b[0m: 'str' object does not support item assignment"
     ]
    }
   ],
   "source": [
    "# Immutable data type : these are those data type  which doesn't allow to replace one thing for another\n",
    "#for example\n",
    "v=\"Laptop\"\n",
    "v[2]=c\n",
    "print(v[2])"
   ]
  },
  {
   "cell_type": "code",
   "execution_count": null,
   "id": "73430783",
   "metadata": {},
   "outputs": [],
   "source": []
  }
 ],
 "metadata": {
  "kernelspec": {
   "display_name": "Python 3 (ipykernel)",
   "language": "python",
   "name": "python3"
  },
  "language_info": {
   "codemirror_mode": {
    "name": "ipython",
    "version": 3
   },
   "file_extension": ".py",
   "mimetype": "text/x-python",
   "name": "python",
   "nbconvert_exporter": "python",
   "pygments_lexer": "ipython3",
   "version": "3.10.9"
  }
 },
 "nbformat": 4,
 "nbformat_minor": 5
}
